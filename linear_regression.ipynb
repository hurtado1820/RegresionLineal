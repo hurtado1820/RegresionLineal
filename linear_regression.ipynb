{
  "nbformat": 4,
  "nbformat_minor": 0,
  "metadata": {
    "colab": {
      "name": "linear-regression.ipynb",
      "provenance": [],
      "collapsed_sections": [],
      "include_colab_link": true
    },
    "kernelspec": {
      "name": "python3",
      "display_name": "Python 3"
    },
    "language_info": {
      "name": "python"
    }
  },
  "cells": [
    {
      "cell_type": "markdown",
      "metadata": {
        "id": "view-in-github",
        "colab_type": "text"
      },
      "source": [
        "<a href=\"https://colab.research.google.com/github/hurtado1820/RegresionLineal/blob/main/linear_regression.ipynb\" target=\"_parent\"><img src=\"https://colab.research.google.com/assets/colab-badge.svg\" alt=\"Open In Colab\"/></a>"
      ]
    },
    {
      "cell_type": "markdown",
      "metadata": {
        "id": "c0XRjbPqF9NI"
      },
      "source": [
        "# Visualización y entrenamiento de un modelo de Regresión lineal con scikit-learn"
      ]
    },
    {
      "cell_type": "markdown",
      "metadata": {
        "id": "eSFESh08hPtG"
      },
      "source": [
        "## Importando dependencias"
      ]
    },
    {
      "cell_type": "code",
      "metadata": {
        "id": "f2YD7Mz_Ych_"
      },
      "source": [
        "import pandas as pd # Manejo de datos\n",
        "import seaborn as sns # Creación de gráficas y visualización de datos\n",
        "import matplotlib.pyplot as plt # Dependencia para crear gráficos"
      ],
      "execution_count": null,
      "outputs": []
    },
    {
      "cell_type": "markdown",
      "metadata": {
        "id": "CV5o6mrKhCcA"
      },
      "source": [
        "## Explorando nuestro set de datos"
      ]
    },
    {
      "cell_type": "markdown",
      "metadata": {
        "id": "S-kBfWZFutWg"
      },
      "source": [
        "Lo primero que debemos hacer es leer nuestros datos"
      ]
    },
    {
      "cell_type": "code",
      "metadata": {
        "colab": {
          "base_uri": "https://localhost:8080/"
        },
        "id": "W7jwPMatu3oA",
        "outputId": "1907f17a-7b35-4e2e-e0e4-cfdf2dc74793"
      },
      "source": [
        "from google.colab import drive\n",
        "drive.mount('/content/drive')"
      ],
      "execution_count": null,
      "outputs": [
        {
          "output_type": "stream",
          "text": [
            "Mounted at /content/drive\n"
          ],
          "name": "stdout"
        }
      ]
    },
    {
      "cell_type": "markdown",
      "metadata": {
        "id": "9CIrODvTve8q"
      },
      "source": [
        "Cargamos nuestro DataFrame"
      ]
    },
    {
      "cell_type": "code",
      "metadata": {
        "id": "XAoF43djZxsD"
      },
      "source": [
        "df = pd.read_csv('/content/drive/MyDrive/DataScience/studentsperformance.csv')"
      ],
      "execution_count": null,
      "outputs": []
    },
    {
      "cell_type": "code",
      "metadata": {
        "id": "RoXnjnv5Z4xO"
      },
      "source": [
        "df #Muestra todo el DataFrame cargado"
      ],
      "execution_count": null,
      "outputs": []
    },
    {
      "cell_type": "code",
      "metadata": {
        "id": "gU4qmoUie5QL",
        "colab": {
          "base_uri": "https://localhost:8080/",
          "height": 359
        },
        "outputId": "38eb6b90-d473-4e0f-c109-7194bd12472e"
      },
      "source": [
        "df.head(10) #Nos muestra la cantidad de registros que se indica, por defecto son 5"
      ],
      "execution_count": null,
      "outputs": [
        {
          "output_type": "execute_result",
          "data": {
            "text/html": [
              "<div>\n",
              "<style scoped>\n",
              "    .dataframe tbody tr th:only-of-type {\n",
              "        vertical-align: middle;\n",
              "    }\n",
              "\n",
              "    .dataframe tbody tr th {\n",
              "        vertical-align: top;\n",
              "    }\n",
              "\n",
              "    .dataframe thead th {\n",
              "        text-align: right;\n",
              "    }\n",
              "</style>\n",
              "<table border=\"1\" class=\"dataframe\">\n",
              "  <thead>\n",
              "    <tr style=\"text-align: right;\">\n",
              "      <th></th>\n",
              "      <th>gender</th>\n",
              "      <th>race/ethnicity</th>\n",
              "      <th>parental level of education</th>\n",
              "      <th>lunch</th>\n",
              "      <th>test preparation course</th>\n",
              "      <th>math score</th>\n",
              "      <th>reading score</th>\n",
              "      <th>writing score</th>\n",
              "    </tr>\n",
              "  </thead>\n",
              "  <tbody>\n",
              "    <tr>\n",
              "      <th>0</th>\n",
              "      <td>female</td>\n",
              "      <td>group B</td>\n",
              "      <td>bachelor's degree</td>\n",
              "      <td>standard</td>\n",
              "      <td>none</td>\n",
              "      <td>72</td>\n",
              "      <td>72</td>\n",
              "      <td>74</td>\n",
              "    </tr>\n",
              "    <tr>\n",
              "      <th>1</th>\n",
              "      <td>female</td>\n",
              "      <td>group C</td>\n",
              "      <td>some college</td>\n",
              "      <td>standard</td>\n",
              "      <td>completed</td>\n",
              "      <td>69</td>\n",
              "      <td>90</td>\n",
              "      <td>88</td>\n",
              "    </tr>\n",
              "    <tr>\n",
              "      <th>2</th>\n",
              "      <td>female</td>\n",
              "      <td>group B</td>\n",
              "      <td>master's degree</td>\n",
              "      <td>standard</td>\n",
              "      <td>none</td>\n",
              "      <td>90</td>\n",
              "      <td>95</td>\n",
              "      <td>93</td>\n",
              "    </tr>\n",
              "    <tr>\n",
              "      <th>3</th>\n",
              "      <td>male</td>\n",
              "      <td>group A</td>\n",
              "      <td>associate's degree</td>\n",
              "      <td>free/reduced</td>\n",
              "      <td>none</td>\n",
              "      <td>47</td>\n",
              "      <td>57</td>\n",
              "      <td>44</td>\n",
              "    </tr>\n",
              "    <tr>\n",
              "      <th>4</th>\n",
              "      <td>male</td>\n",
              "      <td>group C</td>\n",
              "      <td>some college</td>\n",
              "      <td>standard</td>\n",
              "      <td>none</td>\n",
              "      <td>76</td>\n",
              "      <td>78</td>\n",
              "      <td>75</td>\n",
              "    </tr>\n",
              "    <tr>\n",
              "      <th>5</th>\n",
              "      <td>female</td>\n",
              "      <td>group B</td>\n",
              "      <td>associate's degree</td>\n",
              "      <td>standard</td>\n",
              "      <td>none</td>\n",
              "      <td>71</td>\n",
              "      <td>83</td>\n",
              "      <td>78</td>\n",
              "    </tr>\n",
              "    <tr>\n",
              "      <th>6</th>\n",
              "      <td>female</td>\n",
              "      <td>group B</td>\n",
              "      <td>some college</td>\n",
              "      <td>standard</td>\n",
              "      <td>completed</td>\n",
              "      <td>88</td>\n",
              "      <td>95</td>\n",
              "      <td>92</td>\n",
              "    </tr>\n",
              "    <tr>\n",
              "      <th>7</th>\n",
              "      <td>male</td>\n",
              "      <td>group B</td>\n",
              "      <td>some college</td>\n",
              "      <td>free/reduced</td>\n",
              "      <td>none</td>\n",
              "      <td>40</td>\n",
              "      <td>43</td>\n",
              "      <td>39</td>\n",
              "    </tr>\n",
              "    <tr>\n",
              "      <th>8</th>\n",
              "      <td>male</td>\n",
              "      <td>group D</td>\n",
              "      <td>high school</td>\n",
              "      <td>free/reduced</td>\n",
              "      <td>completed</td>\n",
              "      <td>64</td>\n",
              "      <td>64</td>\n",
              "      <td>67</td>\n",
              "    </tr>\n",
              "    <tr>\n",
              "      <th>9</th>\n",
              "      <td>female</td>\n",
              "      <td>group B</td>\n",
              "      <td>high school</td>\n",
              "      <td>free/reduced</td>\n",
              "      <td>none</td>\n",
              "      <td>38</td>\n",
              "      <td>60</td>\n",
              "      <td>50</td>\n",
              "    </tr>\n",
              "  </tbody>\n",
              "</table>\n",
              "</div>"
            ],
            "text/plain": [
              "   gender race/ethnicity  ... reading score writing score\n",
              "0  female        group B  ...            72            74\n",
              "1  female        group C  ...            90            88\n",
              "2  female        group B  ...            95            93\n",
              "3    male        group A  ...            57            44\n",
              "4    male        group C  ...            78            75\n",
              "5  female        group B  ...            83            78\n",
              "6  female        group B  ...            95            92\n",
              "7    male        group B  ...            43            39\n",
              "8    male        group D  ...            64            67\n",
              "9  female        group B  ...            60            50\n",
              "\n",
              "[10 rows x 8 columns]"
            ]
          },
          "metadata": {
            "tags": []
          },
          "execution_count": 6
        }
      ]
    },
    {
      "cell_type": "code",
      "metadata": {
        "id": "EGpRHURWfEXi",
        "colab": {
          "base_uri": "https://localhost:8080/"
        },
        "outputId": "9d735f50-a2bb-47d4-caa9-583ef1e17e64"
      },
      "source": [
        "df.shape #Nos dice el numero de filas y columnas del DataFrame"
      ],
      "execution_count": null,
      "outputs": [
        {
          "output_type": "execute_result",
          "data": {
            "text/plain": [
              "(1000, 8)"
            ]
          },
          "metadata": {
            "tags": []
          },
          "execution_count": 6
        }
      ]
    },
    {
      "cell_type": "code",
      "metadata": {
        "id": "ZmLzDQuVfovt",
        "colab": {
          "base_uri": "https://localhost:8080/"
        },
        "outputId": "580aa855-85df-406c-ddd8-75f43808f5b4"
      },
      "source": [
        "df.columns #Cuales son las columnas"
      ],
      "execution_count": null,
      "outputs": [
        {
          "output_type": "execute_result",
          "data": {
            "text/plain": [
              "Index(['gender', 'race/ethnicity', 'parental level of education', 'lunch',\n",
              "       'test preparation course', 'math score', 'reading score',\n",
              "       'writing score'],\n",
              "      dtype='object')"
            ]
          },
          "metadata": {
            "tags": []
          },
          "execution_count": 7
        }
      ]
    },
    {
      "cell_type": "code",
      "metadata": {
        "colab": {
          "base_uri": "https://localhost:8080/"
        },
        "id": "3WBIOEZAw77c",
        "outputId": "3433c034-62c0-4d42-8347-a1b48fb9dd13"
      },
      "source": [
        "df.dtypes #De que tipo son los datos en cada una de las columnas"
      ],
      "execution_count": null,
      "outputs": [
        {
          "output_type": "execute_result",
          "data": {
            "text/plain": [
              "gender                         object\n",
              "race/ethnicity                 object\n",
              "parental level of education    object\n",
              "lunch                          object\n",
              "test preparation course        object\n",
              "math score                      int64\n",
              "reading score                   int64\n",
              "writing score                   int64\n",
              "dtype: object"
            ]
          },
          "metadata": {
            "tags": []
          },
          "execution_count": 8
        }
      ]
    },
    {
      "cell_type": "markdown",
      "metadata": {
        "id": "NiASNigBxX--"
      },
      "source": [
        "Pandas representa normalmente un dato ***string*** como tipo ***object***.\n",
        "\n",
        "Esos tipos de datos provienen de Numpy"
      ]
    },
    {
      "cell_type": "markdown",
      "metadata": {
        "id": "NoossBnRsX9s"
      },
      "source": [
        "### Creando un histograma"
      ]
    },
    {
      "cell_type": "markdown",
      "metadata": {
        "id": "_N3eeQGSx6Hk"
      },
      "source": [
        "Visualización de los datos. En este caso vamos a usar Seaborn "
      ]
    },
    {
      "cell_type": "code",
      "metadata": {
        "id": "lMRvKcqVgusl",
        "colab": {
          "base_uri": "https://localhost:8080/",
          "height": 296
        },
        "outputId": "ad042fd4-dcc5-4459-fedc-7879c8919909"
      },
      "source": [
        "sns.histplot(data=df, x='writing score') #Aqui visualizo los puntajes del writing"
      ],
      "execution_count": null,
      "outputs": [
        {
          "output_type": "execute_result",
          "data": {
            "text/plain": [
              "<matplotlib.axes._subplots.AxesSubplot at 0x7f9b343d0450>"
            ]
          },
          "metadata": {
            "tags": []
          },
          "execution_count": 9
        },
        {
          "output_type": "display_data",
          "data": {
            "image/png": "[encoded data removed]",
            "text/plain": [
              "<Figure size 432x288 with 1 Axes>"
            ]
          },
          "metadata": {
            "tags": [],
            "needs_background": "light"
          }
        }
      ]
    },
    {
      "cell_type": "markdown",
      "metadata": {
        "id": "nvi92o38zZ8E"
      },
      "source": [
        "Comparacion en el mismo gráfico con dos columnas de los datos"
      ]
    },
    {
      "cell_type": "code",
      "metadata": {
        "colab": {
          "base_uri": "https://localhost:8080/",
          "height": 296
        },
        "id": "n2_gf7ZXyv8y",
        "outputId": "fac76c82-6003-4080-bbda-4eadcbc885b7"
      },
      "source": [
        "sns.histplot(data=df, x='writing score', hue='test preparation course',multiple='stack')"
      ],
      "execution_count": null,
      "outputs": [
        {
          "output_type": "execute_result",
          "data": {
            "text/plain": [
              "<matplotlib.axes._subplots.AxesSubplot at 0x7f9b341e2f50>"
            ]
          },
          "metadata": {
            "tags": []
          },
          "execution_count": 11
        },
        {
          "output_type": "display_data",
          "data": {
            "image/png": "[encoded data removed]",
            "text/plain": [
              "<Figure size 432x288 with 1 Axes>"
            ]
          },
          "metadata": {
            "tags": [],
            "needs_background": "light"
          }
        }
      ]
    },
    {
      "cell_type": "markdown",
      "metadata": {
        "id": "5klhxYeEuXlC"
      },
      "source": [
        "### Visualizando nuestros datos"
      ]
    },
    {
      "cell_type": "markdown",
      "metadata": {
        "id": "Yrz0mL7lztXo"
      },
      "source": [
        "Gráfico de dispersión. En este caso la correlación (patrón) es positiva"
      ]
    },
    {
      "cell_type": "code",
      "metadata": {
        "id": "BzPgRE1sDuD1",
        "colab": {
          "base_uri": "https://localhost:8080/",
          "height": 296
        },
        "outputId": "96b8cb27-b768-4012-9c3d-60f891a8d489"
      },
      "source": [
        "sns.scatterplot(data=df, x='reading score', y='writing score')"
      ],
      "execution_count": null,
      "outputs": [
        {
          "output_type": "execute_result",
          "data": {
            "text/plain": [
              "<matplotlib.axes._subplots.AxesSubplot at 0x7f9b32f782d0>"
            ]
          },
          "metadata": {
            "tags": []
          },
          "execution_count": 12
        },
        {
          "output_type": "display_data",
          "data": {
            "image/png": "[encoded data removed]",
            "text/plain": [
              "<Figure size 432x288 with 1 Axes>"
            ]
          },
          "metadata": {
            "tags": [],
            "needs_background": "light"
          }
        }
      ]
    },
    {
      "cell_type": "markdown",
      "metadata": {
        "id": "yDXZSbWgHbcY"
      },
      "source": [
        "### Creando una tabla de frecuencias"
      ]
    },
    {
      "cell_type": "markdown",
      "metadata": {
        "id": "4HLPIKvH0e21"
      },
      "source": [
        "Muestra los valores de una distibución"
      ]
    },
    {
      "cell_type": "code",
      "metadata": {
        "id": "BehvQch5uyPq",
        "colab": {
          "base_uri": "https://localhost:8080/",
          "height": 419
        },
        "outputId": "7e1358c1-a2c4-4eda-c843-89443b5e1eaa"
      },
      "source": [
        "freq = df['writing score'].value_counts()\n",
        "df_freq = freq.to_frame()\n",
        "df_freq.reset_index(inplace=True) #Deja los indices dentro del mismo DataFrame\n",
        "df_freq = df_freq.rename(columns={'index': 'writing score', 'writing score': 'number of students'})\n",
        "df_freq"
      ],
      "execution_count": null,
      "outputs": [
        {
          "output_type": "execute_result",
          "data": {
            "text/html": [
              "<div>\n",
              "<style scoped>\n",
              "    .dataframe tbody tr th:only-of-type {\n",
              "        vertical-align: middle;\n",
              "    }\n",
              "\n",
              "    .dataframe tbody tr th {\n",
              "        vertical-align: top;\n",
              "    }\n",
              "\n",
              "    .dataframe thead th {\n",
              "        text-align: right;\n",
              "    }\n",
              "</style>\n",
              "<table border=\"1\" class=\"dataframe\">\n",
              "  <thead>\n",
              "    <tr style=\"text-align: right;\">\n",
              "      <th></th>\n",
              "      <th>writing score</th>\n",
              "      <th>number of students</th>\n",
              "    </tr>\n",
              "  </thead>\n",
              "  <tbody>\n",
              "    <tr>\n",
              "      <th>0</th>\n",
              "      <td>74</td>\n",
              "      <td>35</td>\n",
              "    </tr>\n",
              "    <tr>\n",
              "      <th>1</th>\n",
              "      <td>70</td>\n",
              "      <td>33</td>\n",
              "    </tr>\n",
              "    <tr>\n",
              "      <th>2</th>\n",
              "      <td>68</td>\n",
              "      <td>31</td>\n",
              "    </tr>\n",
              "    <tr>\n",
              "      <th>3</th>\n",
              "      <td>73</td>\n",
              "      <td>28</td>\n",
              "    </tr>\n",
              "    <tr>\n",
              "      <th>4</th>\n",
              "      <td>62</td>\n",
              "      <td>27</td>\n",
              "    </tr>\n",
              "    <tr>\n",
              "      <th>...</th>\n",
              "      <td>...</td>\n",
              "      <td>...</td>\n",
              "    </tr>\n",
              "    <tr>\n",
              "      <th>72</th>\n",
              "      <td>23</td>\n",
              "      <td>1</td>\n",
              "    </tr>\n",
              "    <tr>\n",
              "      <th>73</th>\n",
              "      <td>22</td>\n",
              "      <td>1</td>\n",
              "    </tr>\n",
              "    <tr>\n",
              "      <th>74</th>\n",
              "      <td>19</td>\n",
              "      <td>1</td>\n",
              "    </tr>\n",
              "    <tr>\n",
              "      <th>75</th>\n",
              "      <td>15</td>\n",
              "      <td>1</td>\n",
              "    </tr>\n",
              "    <tr>\n",
              "      <th>76</th>\n",
              "      <td>10</td>\n",
              "      <td>1</td>\n",
              "    </tr>\n",
              "  </tbody>\n",
              "</table>\n",
              "<p>77 rows × 2 columns</p>\n",
              "</div>"
            ],
            "text/plain": [
              "    writing score  number of students\n",
              "0              74                  35\n",
              "1              70                  33\n",
              "2              68                  31\n",
              "3              73                  28\n",
              "4              62                  27\n",
              "..            ...                 ...\n",
              "72             23                   1\n",
              "73             22                   1\n",
              "74             19                   1\n",
              "75             15                   1\n",
              "76             10                   1\n",
              "\n",
              "[77 rows x 2 columns]"
            ]
          },
          "metadata": {
            "tags": []
          },
          "execution_count": 18
        }
      ]
    },
    {
      "cell_type": "markdown",
      "metadata": {
        "id": "efawsB81oB0F"
      },
      "source": [
        "### Promedio de los puntajes"
      ]
    },
    {
      "cell_type": "code",
      "metadata": {
        "id": "8U0pn1fbq1kF",
        "colab": {
          "base_uri": "https://localhost:8080/"
        },
        "outputId": "cd047496-247c-497b-9c6d-a3cb9db6be1f"
      },
      "source": [
        "df.mean()"
      ],
      "execution_count": null,
      "outputs": [
        {
          "output_type": "execute_result",
          "data": {
            "text/plain": [
              "math score       66.089\n",
              "reading score    69.169\n",
              "writing score    68.054\n",
              "dtype: float64"
            ]
          },
          "metadata": {
            "tags": []
          },
          "execution_count": 19
        }
      ]
    },
    {
      "cell_type": "markdown",
      "metadata": {
        "id": "0phUKTPBqurP"
      },
      "source": [
        "### Mediana de los puntajes"
      ]
    },
    {
      "cell_type": "code",
      "metadata": {
        "id": "t2n1yVCqiX3p",
        "colab": {
          "base_uri": "https://localhost:8080/"
        },
        "outputId": "501eb400-9321-4de7-d923-4d41c4ab3d7f"
      },
      "source": [
        "df.median()"
      ],
      "execution_count": null,
      "outputs": [
        {
          "output_type": "execute_result",
          "data": {
            "text/plain": [
              "math score       66.0\n",
              "reading score    70.0\n",
              "writing score    69.0\n",
              "dtype: float64"
            ]
          },
          "metadata": {
            "tags": []
          },
          "execution_count": 20
        }
      ]
    },
    {
      "cell_type": "markdown",
      "metadata": {
        "id": "06iacLM0g_u1"
      },
      "source": [
        "## Entrenando nuestro modelo"
      ]
    },
    {
      "cell_type": "markdown",
      "metadata": {
        "id": "TmnZf7HNDfg8"
      },
      "source": [
        "***x*** será el puntaje de lectura\n",
        "y ***y*** sera el puntaje de escritura\n",
        "\n",
        "Suponemos que si obtienen un buen puntaje en el test de lectura deben obtener un mayor puntaje en el test escritura"
      ]
    },
    {
      "cell_type": "code",
      "metadata": {
        "id": "Bahk8SE0Cs-x"
      },
      "source": [
        "X = df['reading score'].values\n",
        "Y = df['writing score'].values\n",
        "\n",
        "#Muchos modelos de ML necesitan que los datos de entrada esten en un formato que no sea lista \n",
        "#Forma Tensor, queda como listas dentro de una lista\n",
        "X = X.reshape(-1,1)\n",
        "\n",
        "#Los datos debemos dividirlos en dos partes, seccion de entrenamiento y test\n",
        "from sklearn.model_selection import train_test_split \n",
        "\n",
        "X_train, X_test, Y_train, Y_test = train_test_split(X,Y,test_size = 0.2)\n"
      ],
      "execution_count": null,
      "outputs": []
    },
    {
      "cell_type": "code",
      "metadata": {
        "colab": {
          "base_uri": "https://localhost:8080/"
        },
        "id": "pQGQ3A254Slh",
        "outputId": "de0fce06-5b69-4ab6-fd97-b095b1dd3117"
      },
      "source": [
        "#Regresión lineal, con Scikit-learn\n",
        "from sklearn.linear_model import LinearRegression\n",
        "\n",
        "reg = LinearRegression()\n",
        "reg.fit(X_train, Y_train)\n",
        "\n",
        "print('La pendiente es: ', reg.coef_)\n",
        "print('El bias es: ', reg.intercept_)\n",
        "#Coeficiente de regresión, nos dice quee tan relacionadas están las variables\n",
        "print(reg.score(X_train, Y_train)) \n"
      ],
      "execution_count": null,
      "outputs": [
        {
          "output_type": "stream",
          "text": [
            "La pendiente es:  [0.99589904]\n",
            "El bias es:  -0.8328023479006674\n",
            "0.9146351908494582\n"
          ],
          "name": "stdout"
        }
      ]
    },
    {
      "cell_type": "markdown",
      "metadata": {
        "id": "x5PcF1aGH7NZ"
      },
      "source": [
        "## Visualización de nuestro modelo entrenado"
      ]
    },
    {
      "cell_type": "code",
      "metadata": {
        "id": "CgjxJbyIMBkA",
        "colab": {
          "base_uri": "https://localhost:8080/",
          "height": 282
        },
        "outputId": "197beae3-c0eb-4eec-bc50-7ecd2b713569"
      },
      "source": [
        "x_flat = X_train.flatten()\n",
        "\n",
        "y_hat = reg.predict(X_train)\n",
        "\n",
        "#fig, ax = plt.subplots() \n",
        "sns.scatterplot(x=x_flat, y=Y_train)\n",
        "plt.plot(X_train,y_hat, color='r')"
      ],
      "execution_count": null,
      "outputs": [
        {
          "output_type": "execute_result",
          "data": {
            "text/plain": [
              "[<matplotlib.lines.Line2D at 0x7f9b2af57710>]"
            ]
          },
          "metadata": {
            "tags": []
          },
          "execution_count": 45
        },
        {
          "output_type": "display_data",
          "data": {
            "image/png": "[encoded data removed]",
            "text/plain": [
              "<Figure size 432x288 with 1 Axes>"
            ]
          },
          "metadata": {
            "tags": [],
            "needs_background": "light"
          }
        }
      ]
    },
    {
      "cell_type": "markdown",
      "metadata": {
        "id": "lJfipdX3qq91"
      },
      "source": [
        "## Evaluación de nuestro modelo"
      ]
    },
    {
      "cell_type": "code",
      "metadata": {
        "id": "X2m6SWvTqxBg",
        "colab": {
          "base_uri": "https://localhost:8080/"
        },
        "outputId": "aa0c9794-7634-4e28-e09f-87982751535f"
      },
      "source": [
        "from sklearn.metrics import mean_squared_error\n",
        "\n",
        "y_pred = reg.predict(X_test)\n",
        "\n",
        "#Calcular el error cuadratico medio\n",
        "#Mide que tanto nos equivocamos de nuestros datos reales con nuestros datos de prediccion\n",
        "print(mean_squared_error(Y_test, y_pred))"
      ],
      "execution_count": null,
      "outputs": [
        {
          "output_type": "stream",
          "text": [
            "22.877639830632592\n"
          ],
          "name": "stdout"
        }
      ]
    },
    {
      "cell_type": "code",
      "metadata": {
        "id": "sJLOALXt5bTz",
        "colab": {
          "base_uri": "https://localhost:8080/",
          "height": 419
        },
        "outputId": "269638f9-07e5-40e7-f875-d330703a411c"
      },
      "source": [
        "value = pd.DataFrame({'Actuales test': Y_test.flatten(), 'Predict': y_pred.flatten()})\n",
        "value"
      ],
      "execution_count": null,
      "outputs": [
        {
          "output_type": "execute_result",
          "data": {
            "text/html": [
              "<div>\n",
              "<style scoped>\n",
              "    .dataframe tbody tr th:only-of-type {\n",
              "        vertical-align: middle;\n",
              "    }\n",
              "\n",
              "    .dataframe tbody tr th {\n",
              "        vertical-align: top;\n",
              "    }\n",
              "\n",
              "    .dataframe thead th {\n",
              "        text-align: right;\n",
              "    }\n",
              "</style>\n",
              "<table border=\"1\" class=\"dataframe\">\n",
              "  <thead>\n",
              "    <tr style=\"text-align: right;\">\n",
              "      <th></th>\n",
              "      <th>Actuales test</th>\n",
              "      <th>Predict</th>\n",
              "    </tr>\n",
              "  </thead>\n",
              "  <tbody>\n",
              "    <tr>\n",
              "      <th>0</th>\n",
              "      <td>81</td>\n",
              "      <td>77.843221</td>\n",
              "    </tr>\n",
              "    <tr>\n",
              "      <th>1</th>\n",
              "      <td>52</td>\n",
              "      <td>47.966250</td>\n",
              "    </tr>\n",
              "    <tr>\n",
              "      <th>2</th>\n",
              "      <td>34</td>\n",
              "      <td>38.007260</td>\n",
              "    </tr>\n",
              "    <tr>\n",
              "      <th>3</th>\n",
              "      <td>59</td>\n",
              "      <td>55.933443</td>\n",
              "    </tr>\n",
              "    <tr>\n",
              "      <th>4</th>\n",
              "      <td>75</td>\n",
              "      <td>77.843221</td>\n",
              "    </tr>\n",
              "    <tr>\n",
              "      <th>...</th>\n",
              "      <td>...</td>\n",
              "      <td>...</td>\n",
              "    </tr>\n",
              "    <tr>\n",
              "      <th>195</th>\n",
              "      <td>99</td>\n",
              "      <td>98.757101</td>\n",
              "    </tr>\n",
              "    <tr>\n",
              "      <th>196</th>\n",
              "      <td>77</td>\n",
              "      <td>75.851423</td>\n",
              "    </tr>\n",
              "    <tr>\n",
              "      <th>197</th>\n",
              "      <td>89</td>\n",
              "      <td>87.802212</td>\n",
              "    </tr>\n",
              "    <tr>\n",
              "      <th>198</th>\n",
              "      <td>68</td>\n",
              "      <td>71.867827</td>\n",
              "    </tr>\n",
              "    <tr>\n",
              "      <th>199</th>\n",
              "      <td>57</td>\n",
              "      <td>56.929342</td>\n",
              "    </tr>\n",
              "  </tbody>\n",
              "</table>\n",
              "<p>200 rows × 2 columns</p>\n",
              "</div>"
            ],
            "text/plain": [
              "     Actuales test    Predict\n",
              "0               81  77.843221\n",
              "1               52  47.966250\n",
              "2               34  38.007260\n",
              "3               59  55.933443\n",
              "4               75  77.843221\n",
              "..             ...        ...\n",
              "195             99  98.757101\n",
              "196             77  75.851423\n",
              "197             89  87.802212\n",
              "198             68  71.867827\n",
              "199             57  56.929342\n",
              "\n",
              "[200 rows x 2 columns]"
            ]
          },
          "metadata": {
            "tags": []
          },
          "execution_count": 49
        }
      ]
    }
  ]
}